{
  "nbformat": 4,
  "nbformat_minor": 0,
  "metadata": {
    "colab": {
      "name": "Chương 2",
      "provenance": [],
      "collapsed_sections": [],
      "authorship_tag": "ABX9TyNLrWwmi+RBpIphASxe48/u",
      "include_colab_link": true
    },
    "kernelspec": {
      "name": "python3",
      "display_name": "Python 3"
    },
    "language_info": {
      "name": "python"
    }
  },
  "cells": [
    {
      "cell_type": "markdown",
      "metadata": {
        "id": "view-in-github",
        "colab_type": "text"
      },
      "source": [
        "<a href=\"https://colab.research.google.com/github/huynhlengocphuc/thuchanhtoancc/blob/main/Ch%C6%B0%C6%A1ng_2.ipynb\" target=\"_parent\"><img src=\"https://colab.research.google.com/assets/colab-badge.svg\" alt=\"Open In Colab\"/></a>"
      ]
    },
    {
      "cell_type": "code",
      "execution_count": null,
      "metadata": {
        "colab": {
          "base_uri": "https://localhost:8080/"
        },
        "id": "aIrP28ZZ7bQe",
        "outputId": "6a85008c-61be-43d5-c414-58eda367ee3c"
      },
      "outputs": [
        {
          "output_type": "execute_result",
          "data": {
            "text/plain": [
              "18"
            ]
          },
          "metadata": {},
          "execution_count": 4
        }
      ],
      "source": [
        "chuoitinhtoan=\"a*b+c\"\n",
        "a=2\n",
        "b=5\n",
        "c=8\n",
        "eval(chuoitinhtoan)"
      ]
    },
    {
      "cell_type": "code",
      "source": [
        "import sympy\n",
        "x=Symbol('x')\n",
        "y=Symbol('y')\n",
        "bieuthuc=x+y\n",
        "thaytheso=bieuthuc.subs({x:10,y:5})\n",
        "thaytheso"
      ],
      "metadata": {
        "colab": {
          "base_uri": "https://localhost:8080/",
          "height": 235
        },
        "id": "eHlrgUTmsHCM",
        "outputId": "94872f33-3d45-46e2-eabe-f04c96fdd681"
      },
      "execution_count": null,
      "outputs": [
        {
          "output_type": "error",
          "ename": "NameError",
          "evalue": "ignored",
          "traceback": [
            "\u001b[0;31m---------------------------------------------------------------------------\u001b[0m",
            "\u001b[0;31mNameError\u001b[0m                                 Traceback (most recent call last)",
            "\u001b[0;32m<ipython-input-1-80bf21a9a608>\u001b[0m in \u001b[0;36m<module>\u001b[0;34m()\u001b[0m\n\u001b[1;32m      1\u001b[0m \u001b[0;32mimport\u001b[0m \u001b[0msympy\u001b[0m\u001b[0;34m\u001b[0m\u001b[0;34m\u001b[0m\u001b[0m\n\u001b[0;32m----> 2\u001b[0;31m \u001b[0mx\u001b[0m\u001b[0;34m=\u001b[0m\u001b[0mSymbol\u001b[0m\u001b[0;34m(\u001b[0m\u001b[0;34m'x'\u001b[0m\u001b[0;34m)\u001b[0m\u001b[0;34m\u001b[0m\u001b[0;34m\u001b[0m\u001b[0m\n\u001b[0m\u001b[1;32m      3\u001b[0m \u001b[0my\u001b[0m\u001b[0;34m=\u001b[0m\u001b[0mSymbol\u001b[0m\u001b[0;34m(\u001b[0m\u001b[0;34m'y'\u001b[0m\u001b[0;34m)\u001b[0m\u001b[0;34m\u001b[0m\u001b[0;34m\u001b[0m\u001b[0m\n\u001b[1;32m      4\u001b[0m \u001b[0mbieuthuc\u001b[0m\u001b[0;34m=\u001b[0m\u001b[0mx\u001b[0m\u001b[0;34m+\u001b[0m\u001b[0my\u001b[0m\u001b[0;34m\u001b[0m\u001b[0;34m\u001b[0m\u001b[0m\n\u001b[1;32m      5\u001b[0m \u001b[0mthaytheso\u001b[0m\u001b[0;34m=\u001b[0m\u001b[0mbieuthuc\u001b[0m\u001b[0;34m.\u001b[0m\u001b[0msubs\u001b[0m\u001b[0;34m(\u001b[0m\u001b[0;34m{\u001b[0m\u001b[0mx\u001b[0m\u001b[0;34m:\u001b[0m\u001b[0;36m10\u001b[0m\u001b[0;34m,\u001b[0m\u001b[0my\u001b[0m\u001b[0;34m:\u001b[0m\u001b[0;36m5\u001b[0m\u001b[0;34m}\u001b[0m\u001b[0;34m)\u001b[0m\u001b[0;34m\u001b[0m\u001b[0;34m\u001b[0m\u001b[0m\n",
            "\u001b[0;31mNameError\u001b[0m: name 'Symbol' is not defined"
          ]
        }
      ]
    },
    {
      "cell_type": "code",
      "source": [
        "danhsach_so=[10,15,20]\n",
        "danhsach_so=(0)\n",
        "10\n",
        "danhsach_so=(1)\n",
        "15\n",
        "danhsach_so=[2]\n",
        "20"
      ],
      "metadata": {
        "colab": {
          "base_uri": "https://localhost:8080/"
        },
        "id": "ZrMzEUMUK8W7",
        "outputId": "0be733cf-5649-4951-c6c5-c23bcb3c83eb"
      },
      "execution_count": null,
      "outputs": [
        {
          "output_type": "execute_result",
          "data": {
            "text/plain": [
              "20"
            ]
          },
          "metadata": {},
          "execution_count": 18
        }
      ]
    },
    {
      "cell_type": "code",
      "source": [
        "ds=[1,2,3]\n",
        "for so in ds:\n",
        "  print(so)"
      ],
      "metadata": {
        "colab": {
          "base_uri": "https://localhost:8080/"
        },
        "id": "Qba9EYc2Lnhm",
        "outputId": "bce3b069-c3ef-4859-c613-39be7017b436"
      },
      "execution_count": null,
      "outputs": [
        {
          "output_type": "stream",
          "name": "stdout",
          "text": [
            "1\n",
            "2\n",
            "3\n"
          ]
        }
      ]
    },
    {
      "cell_type": "code",
      "source": [
        "ds=[10,11,12]\n",
        "for chiso,giatri in enumerate(ds):\n",
        " print (chiso,giatri)"
      ],
      "metadata": {
        "colab": {
          "base_uri": "https://localhost:8080/"
        },
        "id": "rVtKm1iXL0km",
        "outputId": "b05d3690-92a0-4db6-c669-04359d62d5df"
      },
      "execution_count": null,
      "outputs": [
        {
          "output_type": "stream",
          "name": "stdout",
          "text": [
            "0 10\n",
            "1 11\n",
            "2 12\n"
          ]
        }
      ]
    },
    {
      "cell_type": "code",
      "source": [
        "x_numbers=[1,6,8]\n",
        "y_numbers=[2,5,9]"
      ],
      "metadata": {
        "id": "8MCiqM7fMZeI"
      },
      "execution_count": null,
      "outputs": []
    },
    {
      "cell_type": "code",
      "source": [
        "from pylab import plot, show\n",
        "plot(x_numbers,y_numbers)\n",
        "show()"
      ],
      "metadata": {
        "colab": {
          "base_uri": "https://localhost:8080/",
          "height": 265
        },
        "id": "Nyp2Y5a7MoDS",
        "outputId": "3b554111-09d1-4adc-9d1d-be0c354eeeee"
      },
      "execution_count": null,
      "outputs": [
        {
          "output_type": "display_data",
          "data": {
            "image/png": "[encoded data removed]",
            "text/plain": [
              "<Figure size 432x288 with 1 Axes>"
            ]
          },
          "metadata": {
            "needs_background": "light"
          }
        }
      ]
    },
    {
      "cell_type": "code",
      "source": [
        "plot(x_numbers,y_numbers,marker=\"o\")\n",
        "show()"
      ],
      "metadata": {
        "colab": {
          "base_uri": "https://localhost:8080/",
          "height": 265
        },
        "id": "uJkVYxcuNW7Z",
        "outputId": "ce2df1f6-eb09-4516-a628-dcefcac87e8f"
      },
      "execution_count": null,
      "outputs": [
        {
          "output_type": "display_data",
          "data": {
            "image/png": "[encoded data removed]",
            "text/plain": [
              "<Figure size 432x288 with 1 Axes>"
            ]
          },
          "metadata": {
            "needs_background": "light"
          }
        }
      ]
    },
    {
      "cell_type": "code",
      "source": [
        "hcm_rain=[13.8,4.1,10.5,50,4,218.4,311.7,269.8,327.1,266.7,116.5,48.3]\n",
        "months = range(1,13)\n",
        "plot(months,hcm_rain,marker='o')\n",
        "show()"
      ],
      "metadata": {
        "colab": {
          "base_uri": "https://localhost:8080/",
          "height": 265
        },
        "id": "3QJbImrKNM-B",
        "outputId": "138b9fde-e688-47bd-9648-f0328027b7d0"
      },
      "execution_count": null,
      "outputs": [
        {
          "output_type": "display_data",
          "data": {
            "image/png": "[encoded data removed]",
            "text/plain": [
              "<Figure size 432x288 with 1 Axes>"
            ]
          },
          "metadata": {
            "needs_background": "light"
          }
        }
      ]
    },
    {
      "cell_type": "code",
      "source": [
        "from sympy import Symbol,Derivative\n",
        "t=Symbol('t')\n",
        "st=5*t**2+2*t+8\n",
        "Derivative(st,t)"
      ],
      "metadata": {
        "colab": {
          "base_uri": "https://localhost:8080/",
          "height": 52
        },
        "id": "sE_UZ2l4O32X",
        "outputId": "492f1a44-3dbe-4605-a0ef-d51cb30d5b7c"
      },
      "execution_count": null,
      "outputs": [
        {
          "output_type": "execute_result",
          "data": {
            "text/latex": "$\\displaystyle \\frac{d}{d t} \\left(5 t^{2} + 2 t + 8\\right)$",
            "text/plain": [
              "Derivative(5*t**2 + 2*t + 8, t)"
            ]
          },
          "metadata": {},
          "execution_count": 31
        }
      ]
    },
    {
      "cell_type": "code",
      "source": [
        "d=Derivative(st,t)\n",
        "d.doit"
      ],
      "metadata": {
        "colab": {
          "base_uri": "https://localhost:8080/"
        },
        "id": "ilbpEi38PXjC",
        "outputId": "acf964a1-10a9-45da-f325-23f82cd7c9cf"
      },
      "execution_count": null,
      "outputs": [
        {
          "output_type": "execute_result",
          "data": {
            "text/plain": [
              "<bound method Derivative.doit of Derivative(5*t**2 + 2*t + 8, t)>"
            ]
          },
          "metadata": {},
          "execution_count": 32
        }
      ]
    },
    {
      "cell_type": "code",
      "source": [
        "t1=Symbol('t1')\n",
        "d.doit().subs({t:t1})"
      ],
      "metadata": {
        "colab": {
          "base_uri": "https://localhost:8080/",
          "height": 38
        },
        "id": "HuBQ1bAIP9Ps",
        "outputId": "88680e6e-0e2b-4ee4-8614-24550ad7c88d"
      },
      "execution_count": null,
      "outputs": [
        {
          "output_type": "execute_result",
          "data": {
            "text/latex": "$\\displaystyle 10 t_{1} + 2$",
            "text/plain": [
              "10*t1 + 2"
            ]
          },
          "metadata": {},
          "execution_count": 34
        }
      ]
    },
    {
      "cell_type": "code",
      "source": [
        "t2 = 10\n",
        "d.doit().subs({t:t2})"
      ],
      "metadata": {
        "colab": {
          "base_uri": "https://localhost:8080/",
          "height": 37
        },
        "id": "hB1lumPgQMyd",
        "outputId": "d4d3c34e-6f39-4062-bd01-f7bbd8718033"
      },
      "execution_count": null,
      "outputs": [
        {
          "output_type": "execute_result",
          "data": {
            "text/latex": "$\\displaystyle 102$",
            "text/plain": [
              "102"
            ]
          },
          "metadata": {},
          "execution_count": 41
        }
      ]
    },
    {
      "cell_type": "code",
      "source": [
        "from sympy import Derivative,Symbol\n",
        "x=Symbol('x')\n",
        "f = (x**3+x**2+x)*(x**2+x)\n",
        "Derivative(f,x).doit()\n"
      ],
      "metadata": {
        "colab": {
          "base_uri": "https://localhost:8080/",
          "height": 38
        },
        "id": "4zxuRAwdQ8JG",
        "outputId": "487a82d2-2bbf-4501-c9ec-4a5b3fe26156"
      },
      "execution_count": null,
      "outputs": [
        {
          "output_type": "execute_result",
          "data": {
            "text/latex": "$\\displaystyle \\left(2 x + 1\\right) \\left(x^{3} + x^{2} + x\\right) + \\left(x^{2} + x\\right) \\left(3 x^{2} + 2 x + 1\\right)$",
            "text/plain": [
              "(2*x + 1)*(x**3 + x**2 + x) + (x**2 + x)*(3*x**2 + 2*x + 1)"
            ]
          },
          "metadata": {},
          "execution_count": 44
        }
      ]
    },
    {
      "cell_type": "code",
      "source": [
        "\n",
        "f=sympy.sin(2*x)\n",
        "Derivative(f,x).doit()\n"
      ],
      "metadata": {
        "colab": {
          "base_uri": "https://localhost:8080/",
          "height": 38
        },
        "id": "KUwx7yRpR8gU",
        "outputId": "6f2cdac4-4bd1-41ac-d161-ef9144312fbc"
      },
      "execution_count": null,
      "outputs": [
        {
          "output_type": "execute_result",
          "data": {
            "text/latex": "$\\displaystyle 2 \\cos{\\left(2 x \\right)}$",
            "text/plain": [
              "2*cos(2*x)"
            ]
          },
          "metadata": {},
          "execution_count": 47
        }
      ]
    },
    {
      "cell_type": "code",
      "source": [
        "f=sympy.sin(x)*sympy.cos(x)\n",
        "Derivative(f,x).doit()"
      ],
      "metadata": {
        "colab": {
          "base_uri": "https://localhost:8080/",
          "height": 38
        },
        "id": "M6dh5t-RSpZr",
        "outputId": "b97bd156-c961-4cd4-d4e3-dfecebf9da46"
      },
      "execution_count": null,
      "outputs": [
        {
          "output_type": "execute_result",
          "data": {
            "text/latex": "$\\displaystyle - \\sin^{2}{\\left(x \\right)} + \\cos^{2}{\\left(x \\right)}$",
            "text/plain": [
              "-sin(x)**2 + cos(x)**2"
            ]
          },
          "metadata": {},
          "execution_count": 48
        }
      ]
    },
    {
      "cell_type": "code",
      "source": [
        "from sympy import Symbol,solve,Derivative\n",
        "x=Symbol('x')\n",
        "f=x**5-30*x**3+50*x\n",
        "d1=Derivative(f,x).doit()\n",
        "cuctri=solve(d1)"
      ],
      "metadata": {
        "id": "WUeQS-niS90x"
      },
      "execution_count": 2,
      "outputs": []
    },
    {
      "cell_type": "code",
      "source": [
        "d1=Derivative(f,x).doit\n",
        "cuctri=solve(d1)"
      ],
      "metadata": {
        "id": "UlrhqNdfUZ3Z",
        "colab": {
          "base_uri": "https://localhost:8080/",
          "height": 190
        },
        "outputId": "15bcbbfd-740e-4ea8-b06c-8004b82cf35c"
      },
      "execution_count": 1,
      "outputs": [
        {
          "output_type": "error",
          "ename": "NameError",
          "evalue": "ignored",
          "traceback": [
            "\u001b[0;31m---------------------------------------------------------------------------\u001b[0m",
            "\u001b[0;31mNameError\u001b[0m                                 Traceback (most recent call last)",
            "\u001b[0;32m<ipython-input-1-e2cc5d82c7e0>\u001b[0m in \u001b[0;36m<module>\u001b[0;34m()\u001b[0m\n\u001b[0;32m----> 1\u001b[0;31m \u001b[0md1\u001b[0m\u001b[0;34m=\u001b[0m\u001b[0mDerivative\u001b[0m\u001b[0;34m(\u001b[0m\u001b[0mf\u001b[0m\u001b[0;34m,\u001b[0m\u001b[0mx\u001b[0m\u001b[0;34m)\u001b[0m\u001b[0;34m.\u001b[0m\u001b[0mdoit\u001b[0m\u001b[0;34m\u001b[0m\u001b[0;34m\u001b[0m\u001b[0m\n\u001b[0m\u001b[1;32m      2\u001b[0m \u001b[0mcuctri\u001b[0m\u001b[0;34m=\u001b[0m\u001b[0msolve\u001b[0m\u001b[0;34m(\u001b[0m\u001b[0md1\u001b[0m\u001b[0;34m)\u001b[0m\u001b[0;34m\u001b[0m\u001b[0;34m\u001b[0m\u001b[0m\n",
            "\u001b[0;31mNameError\u001b[0m: name 'Derivative' is not defined"
          ]
        }
      ]
    },
    {
      "cell_type": "code",
      "source": [
        "A=cuctri[0]#nghia la gia tri-sqrt(-sqrt(71)+9)"
      ],
      "metadata": {
        "id": "gO1nMGctTfr_"
      },
      "execution_count": 3,
      "outputs": []
    },
    {
      "cell_type": "code",
      "source": [
        "A=cuctri[2]#nghia la gai tri-sqrt(-sqrt(71)+9)"
      ],
      "metadata": {
        "id": "2lQOX_fMT49U"
      },
      "execution_count": 6,
      "outputs": []
    },
    {
      "cell_type": "code",
      "source": [
        "B=cuctri[0]#nghia la gia tri-sqrt(-sqrt(71)+9)"
      ],
      "metadata": {
        "id": "vx93rJUkURg4"
      },
      "execution_count": 7,
      "outputs": []
    },
    {
      "cell_type": "code",
      "source": [
        "C=cuctri[1]#nghia la gia tri sqrt(-sqrt(71)+9)"
      ],
      "metadata": {
        "id": "_t_j-Y4JUnsh"
      },
      "execution_count": 8,
      "outputs": []
    },
    {
      "cell_type": "code",
      "source": [
        "D=cuctri[3]#nghia la gia tri sqrt(sqrt(71)+9)"
      ],
      "metadata": {
        "id": "QcVBEliDU49q"
      },
      "execution_count": 9,
      "outputs": []
    },
    {
      "cell_type": "code",
      "source": [
        "d2=Derivative(d1,x,2).doit()"
      ],
      "metadata": {
        "id": "sZiuZhsbU5EU"
      },
      "execution_count": 10,
      "outputs": []
    },
    {
      "cell_type": "code",
      "source": [
        "d2.subs({x:B}).evalf()"
      ],
      "metadata": {
        "colab": {
          "base_uri": "https://localhost:8080/",
          "height": 37
        },
        "id": "wolc21s9VWOf",
        "outputId": "7339af5c-e788-4516-e314-f5e014c37099"
      },
      "execution_count": 11,
      "outputs": [
        {
          "output_type": "execute_result",
          "data": {
            "text/plain": [
              "-145.568986390582"
            ],
            "text/latex": "$\\displaystyle -145.568986390582$"
          },
          "metadata": {},
          "execution_count": 11
        }
      ]
    },
    {
      "cell_type": "code",
      "source": [
        "d2.subs({x:C}).evalf()"
      ],
      "metadata": {
        "colab": {
          "base_uri": "https://localhost:8080/",
          "height": 37
        },
        "id": "4g7gqGVfVevz",
        "outputId": "99a20171-485d-4184-8a5f-bf972261ee60"
      },
      "execution_count": 12,
      "outputs": [
        {
          "output_type": "execute_result",
          "data": {
            "text/plain": [
              "-145.568986390582"
            ],
            "text/latex": "$\\displaystyle -145.568986390582$"
          },
          "metadata": {},
          "execution_count": 12
        }
      ]
    },
    {
      "cell_type": "code",
      "source": [
        "d2.subs({x:A}).evalf()"
      ],
      "metadata": {
        "colab": {
          "base_uri": "https://localhost:8080/",
          "height": 37
        },
        "id": "eKtRtSkrVwbq",
        "outputId": "4559cb69-7445-4591-f3d7-c72b29c2a42d"
      },
      "execution_count": 13,
      "outputs": [
        {
          "output_type": "execute_result",
          "data": {
            "text/plain": [
              "865.568986390581"
            ],
            "text/latex": "$\\displaystyle 865.568986390581$"
          },
          "metadata": {},
          "execution_count": 13
        }
      ]
    },
    {
      "cell_type": "code",
      "source": [
        "d2.subs({x:D}).evalf()"
      ],
      "metadata": {
        "colab": {
          "base_uri": "https://localhost:8080/",
          "height": 37
        },
        "id": "KmFD4KIIV44H",
        "outputId": "e0e6f60d-cfa8-4762-f3e3-204562f8c62c"
      },
      "execution_count": 14,
      "outputs": [
        {
          "output_type": "execute_result",
          "data": {
            "text/plain": [
              "865.568986390581"
            ],
            "text/latex": "$\\displaystyle 865.568986390581$"
          },
          "metadata": {},
          "execution_count": 14
        }
      ]
    },
    {
      "cell_type": "code",
      "source": [
        "x_min=-5\n",
        "x_max=5\n",
        "f.subs({x:A}).evalf()"
      ],
      "metadata": {
        "colab": {
          "base_uri": "https://localhost:8080/",
          "height": 37
        },
        "id": "KLr8zeLNWD5d",
        "outputId": "d2314200-09db-4c62-c469-17b35cfc5545"
      },
      "execution_count": 16,
      "outputs": [
        {
          "output_type": "execute_result",
          "data": {
            "text/plain": [
              "705.959460380365"
            ],
            "text/latex": "$\\displaystyle 705.959460380365$"
          },
          "metadata": {},
          "execution_count": 16
        }
      ]
    },
    {
      "cell_type": "code",
      "source": [
        "f.subs({x:C}).evalf()"
      ],
      "metadata": {
        "colab": {
          "base_uri": "https://localhost:8080/",
          "height": 37
        },
        "id": "j5xsk_r_WIuA",
        "outputId": "a180b90a-7c7f-473a-c6d1-435ef66d278f"
      },
      "execution_count": 19,
      "outputs": [
        {
          "output_type": "execute_result",
          "data": {
            "text/plain": [
              "25.0846626340294"
            ],
            "text/latex": "$\\displaystyle 25.0846626340294$"
          },
          "metadata": {},
          "execution_count": 19
        }
      ]
    },
    {
      "cell_type": "code",
      "source": [
        "f.subs({x:x_min}).evalf()"
      ],
      "metadata": {
        "colab": {
          "base_uri": "https://localhost:8080/",
          "height": 37
        },
        "id": "d5QG5mu8W5ZQ",
        "outputId": "24c13710-d81f-487f-89f5-da2c2f9cef26"
      },
      "execution_count": 22,
      "outputs": [
        {
          "output_type": "execute_result",
          "data": {
            "text/plain": [
              "375.000000000000"
            ],
            "text/latex": "$\\displaystyle 375.0$"
          },
          "metadata": {},
          "execution_count": 22
        }
      ]
    },
    {
      "cell_type": "code",
      "source": [
        "f.subs({x:B}).evalf()"
      ],
      "metadata": {
        "colab": {
          "base_uri": "https://localhost:8080/",
          "height": 37
        },
        "id": "VCGHxjASXN7d",
        "outputId": "48bda6b2-b6ce-4fc4-aeb1-4c911170bb3d"
      },
      "execution_count": 23,
      "outputs": [
        {
          "output_type": "execute_result",
          "data": {
            "text/plain": [
              "-25.0846626340294"
            ],
            "text/latex": "$\\displaystyle -25.0846626340294$"
          },
          "metadata": {},
          "execution_count": 23
        }
      ]
    },
    {
      "cell_type": "code",
      "source": [
        "f.subs({x:D}).evalf()"
      ],
      "metadata": {
        "colab": {
          "base_uri": "https://localhost:8080/",
          "height": 37
        },
        "id": "32XHz1pOXVCM",
        "outputId": "59dad5ec-c873-46fd-e422-1341fb3f9415"
      },
      "execution_count": 24,
      "outputs": [
        {
          "output_type": "execute_result",
          "data": {
            "text/plain": [
              "-705.959460380365"
            ],
            "text/latex": "$\\displaystyle -705.959460380365$"
          },
          "metadata": {},
          "execution_count": 24
        }
      ]
    },
    {
      "cell_type": "code",
      "source": [
        "f.subs({x:x_min}).evalf()"
      ],
      "metadata": {
        "colab": {
          "base_uri": "https://localhost:8080/",
          "height": 37
        },
        "id": "ZZf0Qa1jXd7z",
        "outputId": "c9104421-81f1-4001-ab8f-6ae5bef6d040"
      },
      "execution_count": 25,
      "outputs": [
        {
          "output_type": "execute_result",
          "data": {
            "text/plain": [
              "375.000000000000"
            ],
            "text/latex": "$\\displaystyle 375.0$"
          },
          "metadata": {},
          "execution_count": 25
        }
      ]
    },
    {
      "cell_type": "code",
      "source": [
        "f.subs({x:x_max}).evalf()"
      ],
      "metadata": {
        "colab": {
          "base_uri": "https://localhost:8080/",
          "height": 37
        },
        "id": "hMZr-aEJXmqX",
        "outputId": "5ac5353d-fad3-409f-9f19-48a4a164e056"
      },
      "execution_count": 27,
      "outputs": [
        {
          "output_type": "execute_result",
          "data": {
            "text/plain": [
              "-375.000000000000"
            ],
            "text/latex": "$\\displaystyle -375.0$"
          },
          "metadata": {},
          "execution_count": 27
        }
      ]
    },
    {
      "cell_type": "code",
      "source": [
        "import sympy\n",
        "sympy.plot(f,(x,-5,5))"
      ],
      "metadata": {
        "colab": {
          "base_uri": "https://localhost:8080/",
          "height": 315
        },
        "id": "srFRtAxyZJTF",
        "outputId": "edd256c4-aaa4-4bc9-81b2-58ff8074fa8f"
      },
      "execution_count": 31,
      "outputs": [
        {
          "output_type": "display_data",
          "data": {
            "text/plain": [
              "<Figure size 432x288 with 1 Axes>"
            ],
            "image/png": "[encoded data removed]"
          },
          "metadata": {
            "needs_background": "light"
          }
        },
        {
          "output_type": "execute_result",
          "data": {
            "text/plain": [
              "<sympy.plotting.plot.Plot at 0x7f1dd2eae1d0>"
            ]
          },
          "metadata": {},
          "execution_count": 31
        }
      ]
    }
  ]
}