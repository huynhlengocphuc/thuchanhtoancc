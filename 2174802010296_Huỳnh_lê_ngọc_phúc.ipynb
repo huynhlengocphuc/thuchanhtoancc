{
  "nbformat": 4,
  "nbformat_minor": 0,
  "metadata": {
    "colab": {
      "name": "2174802010296-Huỳnh lê ngọc phúc",
      "provenance": [],
      "authorship_tag": "ABX9TyOlRGdBQyIKMQ4qMWiVjzB5",
      "include_colab_link": true
    },
    "kernelspec": {
      "name": "python3",
      "display_name": "Python 3"
    },
    "language_info": {
      "name": "python"
    }
  },
  "cells": [
    {
      "cell_type": "markdown",
      "metadata": {
        "id": "view-in-github",
        "colab_type": "text"
      },
      "source": [
        "<a href=\"https://colab.research.google.com/github/huynhlengocphuc/thuchanhtoancc/blob/main/2174802010296_Hu%E1%BB%B3nh_l%C3%AA_ng%E1%BB%8Dc_ph%C3%BAc.ipynb\" target=\"_parent\"><img src=\"https://colab.research.google.com/assets/colab-badge.svg\" alt=\"Open In Colab\"/></a>"
      ]
    },
    {
      "cell_type": "code",
      "source": [
        "from sympy import Symbol,Derivative\n",
        "x=Symbol('x')\n",
        "f=2*x-1/x+2\n",
        "Derivative(f,x).doit()"
      ],
      "metadata": {
        "colab": {
          "base_uri": "https://localhost:8080/",
          "height": 51
        },
        "id": "3db2p8tBzPJD",
        "outputId": "b1b0a379-deb2-4113-98d5-74542a9e4ef0"
      },
      "execution_count": 8,
      "outputs": [
        {
          "output_type": "execute_result",
          "data": {
            "text/plain": [
              "2 + x**(-2)"
            ],
            "text/latex": "$\\displaystyle 2 + \\frac{1}{x^{2}}$"
          },
          "metadata": {},
          "execution_count": 8
        }
      ]
    },
    {
      "cell_type": "code",
      "source": [
        "from sympy import Symbol,Derivative\n",
        "x=Symbol('x')\n",
        "f=2/3*x**3-5*x**2+2*x+4\n",
        "d1=Derivative(f,x).doit()\n",
        "d1"
      ],
      "metadata": {
        "colab": {
          "base_uri": "https://localhost:8080/",
          "height": 39
        },
        "id": "kbFfeDDWz0DR",
        "outputId": "492827cc-2d51-49e8-dc03-481bf3c1c475"
      },
      "execution_count": 9,
      "outputs": [
        {
          "output_type": "execute_result",
          "data": {
            "text/plain": [
              "2.0*x**2 - 10*x + 2"
            ],
            "text/latex": "$\\displaystyle 2.0 x^{2} - 10 x + 2$"
          },
          "metadata": {},
          "execution_count": 9
        }
      ]
    }
  ]
}